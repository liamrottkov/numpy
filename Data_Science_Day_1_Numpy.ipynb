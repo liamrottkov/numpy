{
 "cells": [
  {
   "cell_type": "markdown",
   "metadata": {},
   "source": [
    "# Data Science Numpy & CSV's"
   ]
  },
  {
   "cell_type": "markdown",
   "metadata": {},
   "source": [
    "## Tasks Today:\n",
    "\n",
    "1) <b>Numpy</b> <br>\n",
    " &nbsp;&nbsp;&nbsp;&nbsp; a) Python List Comparison <br>\n",
    " &nbsp;&nbsp;&nbsp;&nbsp; b) In-Class Exercise #1 <br>\n",
    " &nbsp;&nbsp;&nbsp;&nbsp; c) Importing <br>\n",
    " &nbsp;&nbsp;&nbsp;&nbsp; d) Creating an NDArray <br>\n",
    " &nbsp;&nbsp;&nbsp;&nbsp;&nbsp;&nbsp;&nbsp;&nbsp; - np.array() <br>\n",
    " &nbsp;&nbsp;&nbsp;&nbsp;&nbsp;&nbsp;&nbsp;&nbsp; - np.zeros() <br>\n",
    " &nbsp;&nbsp;&nbsp;&nbsp;&nbsp;&nbsp;&nbsp;&nbsp; - np.ones() <br>\n",
    " &nbsp;&nbsp;&nbsp;&nbsp;&nbsp;&nbsp;&nbsp;&nbsp; - np.arange() <br>\n",
    " &nbsp;&nbsp;&nbsp;&nbsp;&nbsp;&nbsp;&nbsp;&nbsp; - Making Lists into NDArrays <br>\n",
    " &nbsp;&nbsp;&nbsp;&nbsp; e) Performing Calculations on NDArrays <br>\n",
    " &nbsp;&nbsp;&nbsp;&nbsp;&nbsp;&nbsp;&nbsp;&nbsp; - Summation <br>\n",
    " &nbsp;&nbsp;&nbsp;&nbsp;&nbsp;&nbsp;&nbsp;&nbsp; - Difference <br>\n",
    " &nbsp;&nbsp;&nbsp;&nbsp;&nbsp;&nbsp;&nbsp;&nbsp; - Multiplication <br>\n",
    " &nbsp;&nbsp;&nbsp;&nbsp;&nbsp;&nbsp;&nbsp;&nbsp; - Division <br>\n",
    " &nbsp;&nbsp;&nbsp;&nbsp; f) Numpy Subsetting <br>\n",
    " &nbsp;&nbsp;&nbsp;&nbsp; g) Multi-dimensional Arrays <br>\n",
    " &nbsp;&nbsp;&nbsp;&nbsp; h) Indexing NDArrays <br>\n",
    " &nbsp;&nbsp;&nbsp;&nbsp; i) Checking NDArray Type <br>\n",
    " &nbsp;&nbsp;&nbsp;&nbsp; j) Altering NDArray Type <br>\n",
    " &nbsp;&nbsp;&nbsp;&nbsp; k) Checking the Shape <br>\n",
    " &nbsp;&nbsp;&nbsp;&nbsp; l) Altering the Shape <br>\n",
    " &nbsp;&nbsp;&nbsp;&nbsp; m) In-Class Exercise #2 <br>\n",
    " &nbsp;&nbsp;&nbsp;&nbsp; n) Complex Indexing & Assigning <br>\n",
    " &nbsp;&nbsp;&nbsp;&nbsp; o) Elementwise Multplication <br>\n",
    " &nbsp;&nbsp;&nbsp;&nbsp; p) np.where() <br>\n",
    " &nbsp;&nbsp;&nbsp;&nbsp; q) Random Sampling <br>\n",
    "\n",
    "2) <b>Working With CSV's</b> <br>\n",
    " &nbsp;&nbsp;&nbsp;&nbsp; a) Imports <br>\n",
    " &nbsp;&nbsp;&nbsp;&nbsp; b) Reading a CSV <br>\n",
    " &nbsp;&nbsp;&nbsp;&nbsp; c) Loading a CSV's Data <br>\n",
    " &nbsp;&nbsp;&nbsp;&nbsp; d) Checking Number of Records <br>\n",
    " \n",
    "3) <b>Exercises</b> <br>\n",
    " &nbsp;&nbsp;&nbsp;&nbsp; a) #1 - Calculate BMI with NDArrays <br>\n",
    " &nbsp;&nbsp;&nbsp;&nbsp; b) #2 - Find the Average Sum of Marathon Runners <br>\n",
    " &nbsp;&nbsp;&nbsp;&nbsp; c) #3 - Random Matrix Function <br>\n",
    " &nbsp;&nbsp;&nbsp;&nbsp; d) #4 - Comparing Boston Red Sox Hitting Numbers <br>"
   ]
  },
  {
   "cell_type": "markdown",
   "metadata": {},
   "source": [
    "## Numpy <br>\n",
    "\n",
    "<p>NumPy is a library for the Python programming language, adding support for large, multi-dimensional arrays and matrices, along with a large collection of high-level mathematical functions to operate on these arrays.</p>\n",
    "<ul>\n",
    "    <li>Shape = Rows & Columns</li>\n",
    "    <li>Matrix = Entire Array</li>\n",
    "    <li>Vector = Variables to be applied (same vector as the one used in physics)</li>\n",
    "    <li>Array = Similar to lists</li>\n",
    "</ul>"
   ]
  },
  {
   "cell_type": "markdown",
   "metadata": {},
   "source": [
    "#### Python List Comparison"
   ]
  },
  {
   "cell_type": "markdown",
   "metadata": {},
   "source": [
    "<p>Lists are flexible, dynamic python objects that do their job quite well. But they do not support some mathematical operations in an intuitive way. Consider the summation of two lists, $l_1$ and $l_2$</p>"
   ]
  },
  {
   "cell_type": "code",
   "execution_count": 1,
   "metadata": {},
   "outputs": [
    {
     "name": "stdout",
     "output_type": "stream",
     "text": [
      "[2, 3, 4, 4, 4, 4]\n"
     ]
    },
    {
     "ename": "TypeError",
     "evalue": "unsupported operand type(s) for -: 'list' and 'list'",
     "output_type": "error",
     "traceback": [
      "\u001b[1;31m---------------------------------------------------------------------------\u001b[0m",
      "\u001b[1;31mTypeError\u001b[0m                                 Traceback (most recent call last)",
      "\u001b[1;32m<ipython-input-1-22afaed85138>\u001b[0m in \u001b[0;36m<module>\u001b[1;34m()\u001b[0m\n\u001b[0;32m      8\u001b[0m \u001b[0mprint\u001b[0m\u001b[1;33m(\u001b[0m\u001b[0mresult\u001b[0m\u001b[1;33m)\u001b[0m\u001b[1;33m\u001b[0m\u001b[0m\n\u001b[0;32m      9\u001b[0m \u001b[1;33m\u001b[0m\u001b[0m\n\u001b[1;32m---> 10\u001b[1;33m \u001b[0mresult\u001b[0m \u001b[1;33m=\u001b[0m \u001b[0maList\u001b[0m \u001b[1;33m-\u001b[0m \u001b[0mbList\u001b[0m\u001b[1;33m\u001b[0m\u001b[0m\n\u001b[0m\u001b[0;32m     11\u001b[0m \u001b[1;33m\u001b[0m\u001b[0m\n\u001b[0;32m     12\u001b[0m \u001b[0mprint\u001b[0m\u001b[1;33m(\u001b[0m\u001b[0mresult\u001b[0m\u001b[1;33m)\u001b[0m\u001b[1;33m\u001b[0m\u001b[0m\n",
      "\u001b[1;31mTypeError\u001b[0m: unsupported operand type(s) for -: 'list' and 'list'"
     ]
    }
   ],
   "source": [
    "# create two lists and sum both of them together (results may not be what you expect)\n",
    "\n",
    "aList = [2, 3, 4]\n",
    "bList = [4, 4, 4]\n",
    "\n",
    "result = aList + bList\n",
    "\n",
    "print(result)\n",
    "\n",
    "result = aList - bList\n",
    "\n",
    "print(result)"
   ]
  },
  {
   "cell_type": "markdown",
   "metadata": {},
   "source": [
    "<p>If we wanted to sum lists elementwise, we could write our own function that does the job entirely within the framework of python</p>"
   ]
  },
  {
   "cell_type": "markdown",
   "metadata": {},
   "source": [
    "#### In-Class Exercise #1 - Write a function that sums the indexes of two lists <br>\n",
    "<p>Ex: [2, 3, 4] + [1, 5, 2] = [3, 8, 6]</p>"
   ]
  },
  {
   "cell_type": "code",
   "execution_count": 2,
   "metadata": {},
   "outputs": [
    {
     "data": {
      "text/plain": [
       "[7, 9, 11]"
      ]
     },
     "execution_count": 2,
     "metadata": {},
     "output_type": "execute_result"
    }
   ],
   "source": [
    "l1 = [2, 3, 4]\n",
    "l2 = [5, 6, 7]\n",
    "\n",
    "# assume lists are same length\n",
    "\n",
    "def sumLists(aList, bList):\n",
    "    if len(aList) != len(bList):\n",
    "        return None\n",
    "    \n",
    "    results = []\n",
    "    \n",
    "    for i in range(len(aList)):\n",
    "        results.append(aList[i] + bList[i])\n",
    "        \n",
    "    return results\n",
    "\n",
    "\n",
    "sumLists(l1, l2)"
   ]
  },
  {
   "cell_type": "markdown",
   "metadata": {},
   "source": [
    "We would have to write a similar function for all the possible operands that we could consider for list arithmatic. This is time consuming and inefficient. Moreover, once the lists in question become nested, mimicing the behavior of true matrices, the problem gets worse. Complicated indexing is necessary, just to allow for the most basic matrix operations common throughout science and engineering. Imagine writing a matrix multiplication function using python syntax in a general way, such that it returns a matrix-matrix or matrix-vector product:\n",
    "\n",
    "\\begin{align}\n",
    "(n \\times x) \\times (x \\times m) \\rightarrow (n \\times m)\n",
    "\\end{align}\n",
    "\n",
    "\\begin{align}\n",
    "\\begin{bmatrix}\n",
    "c_{0,0} & ... & c_{0,n} \\\\\n",
    "\\vdots & \\ddots & \\vdots \\\\\n",
    "c_{m,0} & ... & c_{m,n}\n",
    "\\end{bmatrix}\n",
    "=\n",
    "\\begin{bmatrix}\n",
    "a_{0,0} & ... & a_{0,x} \\\\\n",
    "\\vdots & \\ddots & \\vdots \\\\\n",
    "a_{n,0} & ... & a_{n,x}\n",
    "\\end{bmatrix}\n",
    "\\begin{bmatrix}\n",
    "b_{0,0} & ... & b_{0,m} \\\\\n",
    "\\vdots & \\ddots & \\vdots \\\\\n",
    "b_{x,0} & ... & b_{x,m}\n",
    "\\end{bmatrix}\n",
    "\\end{align}\n",
    "\n",
    "Let is instantiate a matrix $\\mathcal{M}$ and a vector $\\vec{v}$ and write a function that does the multiplication ourselves."
   ]
  },
  {
   "cell_type": "code",
   "execution_count": 6,
   "metadata": {},
   "outputs": [
    {
     "name": "stdout",
     "output_type": "stream",
     "text": [
      "[[2], [4], [6]]\n"
     ]
    }
   ],
   "source": [
    "# think of a vector as the variables to be applied in a mathematical process\n",
    "\n",
    "def matrix_multiply(A, B):\n",
    "    ret = [ [0 for i in range(len(B[0]))] for i in range(len(A))] # number of rows in the result\n",
    "    \n",
    "    inner_dim = len(A[0])\n",
    "    n_dim = len(ret)\n",
    "    m_dim = len(ret[0])\n",
    "    \n",
    "    \n",
    "    for i in range(n_dim):\n",
    "        for j in range(m_dim):\n",
    "            element = 0\n",
    "            for x in range(inner_dim):\n",
    "                    element += A[i][x] * B[x][j]\n",
    "            ret[i][j] = element\n",
    "    \n",
    "    return ret\n",
    "M = [[0,1,0],[0,2,0],[0,3,0]]\n",
    "v = [[1],[2],[3]]\n",
    "\n",
    "print(matrix_multiply(M, v))"
   ]
  },
  {
   "cell_type": "markdown",
   "metadata": {},
   "source": [
    "#### Importing"
   ]
  },
  {
   "cell_type": "code",
   "execution_count": 3,
   "metadata": {
    "collapsed": true
   },
   "outputs": [],
   "source": [
    "# always import as np, standard across all of data science\n",
    "import numpy as np"
   ]
  },
  {
   "cell_type": "markdown",
   "metadata": {},
   "source": [
    "#### Creating an NDArray <br>\n",
    "<p>NumPy is based around a class called the $\\textit{NDArray}$, which is a flexible vector / matrix class that implements the intuitive matrix and vector arithmatic lacking in basic Python. Let's start by creating some NDArrays:</p>"
   ]
  },
  {
   "cell_type": "markdown",
   "metadata": {},
   "source": [
    "###### - np.array()"
   ]
  },
  {
   "cell_type": "code",
   "execution_count": 4,
   "metadata": {},
   "outputs": [
    {
     "name": "stdout",
     "output_type": "stream",
     "text": [
      "[      1 2232039       3]\n",
      "<class 'numpy.ndarray'>\n"
     ]
    }
   ],
   "source": [
    "# can be created from a variable or a list declared in place\n",
    "\n",
    "arr1 = np.array([1, 2232039, 3])\n",
    "\n",
    "print(arr1)\n",
    "print(type(arr1))"
   ]
  },
  {
   "cell_type": "markdown",
   "metadata": {},
   "source": [
    "###### - np.zeros()"
   ]
  },
  {
   "cell_type": "code",
   "execution_count": 5,
   "metadata": {},
   "outputs": [
    {
     "name": "stdout",
     "output_type": "stream",
     "text": [
      "[[0. 0. 0.]\n",
      " [0. 0. 0.]\n",
      " [0. 0. 0.]]\n"
     ]
    }
   ],
   "source": [
    "# takes in a shape\n",
    "\n",
    "arr1 = np.zeros((3, 3))\n",
    "\n",
    "print(arr1)"
   ]
  },
  {
   "cell_type": "markdown",
   "metadata": {},
   "source": [
    "###### - np.ones()"
   ]
  },
  {
   "cell_type": "code",
   "execution_count": 6,
   "metadata": {},
   "outputs": [
    {
     "name": "stdout",
     "output_type": "stream",
     "text": [
      "[[1 1 1]\n",
      " [1 1 1]\n",
      " [1 1 1]]\n"
     ]
    }
   ],
   "source": [
    "# can define the data type\n",
    "\n",
    "ones = np.ones((3, 3), int)\n",
    "\n",
    "print(ones)"
   ]
  },
  {
   "cell_type": "markdown",
   "metadata": {},
   "source": [
    "###### - np.arange()"
   ]
  },
  {
   "cell_type": "code",
   "execution_count": 7,
   "metadata": {},
   "outputs": [
    {
     "name": "stdout",
     "output_type": "stream",
     "text": [
      "[0 1 2 3 4 5 6 7 8 9]\n"
     ]
    }
   ],
   "source": [
    "# creates an NDArray up to the number given, works the same as range()\n",
    "\n",
    "arr1 = np.arange(0, 10, 1)\n",
    "\n",
    "print(arr1)"
   ]
  },
  {
   "cell_type": "markdown",
   "metadata": {},
   "source": [
    "###### - Making Lists into NDArrays"
   ]
  },
  {
   "cell_type": "code",
   "execution_count": 8,
   "metadata": {},
   "outputs": [
    {
     "name": "stdout",
     "output_type": "stream",
     "text": [
      "[2, 4, 6]\n",
      "<class 'list'>\n",
      "[2 4 6]\n",
      "<class 'numpy.ndarray'>\n"
     ]
    }
   ],
   "source": [
    "aList = [2, 4, 6]\n",
    "\n",
    "arr1 = np.array(aList)\n",
    "\n",
    "print(aList)\n",
    "print(type(aList))\n",
    "print(arr1)\n",
    "print(type(arr1))"
   ]
  },
  {
   "cell_type": "markdown",
   "metadata": {},
   "source": [
    "#### Performing Calculations on NDArrays <br>\n",
    "<p>Performs elementwise calculations</p>"
   ]
  },
  {
   "cell_type": "markdown",
   "metadata": {},
   "source": [
    "###### - Summation"
   ]
  },
  {
   "cell_type": "code",
   "execution_count": 9,
   "metadata": {
    "scrolled": true
   },
   "outputs": [
    {
     "name": "stdout",
     "output_type": "stream",
     "text": [
      "[3 6 9]\n"
     ]
    }
   ],
   "source": [
    "arr1 = np.array([2, 4, 6])\n",
    "arr2 = np.array([1, 2, 3])\n",
    "\n",
    "result = arr1 + arr2\n",
    "\n",
    "print(result)"
   ]
  },
  {
   "cell_type": "markdown",
   "metadata": {},
   "source": [
    "###### - Difference"
   ]
  },
  {
   "cell_type": "code",
   "execution_count": 10,
   "metadata": {},
   "outputs": [
    {
     "name": "stdout",
     "output_type": "stream",
     "text": [
      "[1 2 3]\n"
     ]
    }
   ],
   "source": [
    "result = arr1 - arr2\n",
    "\n",
    "print(result)"
   ]
  },
  {
   "cell_type": "markdown",
   "metadata": {},
   "source": [
    "###### - Multiplication"
   ]
  },
  {
   "cell_type": "code",
   "execution_count": 11,
   "metadata": {},
   "outputs": [
    {
     "name": "stdout",
     "output_type": "stream",
     "text": [
      "[ 2  8 18]\n"
     ]
    }
   ],
   "source": [
    "result = arr1 * arr2\n",
    "\n",
    "print(result)"
   ]
  },
  {
   "cell_type": "markdown",
   "metadata": {},
   "source": [
    "###### - Division"
   ]
  },
  {
   "cell_type": "code",
   "execution_count": 12,
   "metadata": {},
   "outputs": [
    {
     "name": "stdout",
     "output_type": "stream",
     "text": [
      "[2. 2. 2.]\n"
     ]
    }
   ],
   "source": [
    "result = arr1 / arr2\n",
    "\n",
    "print(result)"
   ]
  },
  {
   "cell_type": "markdown",
   "metadata": {},
   "source": [
    "#### Numpy Subsetting"
   ]
  },
  {
   "cell_type": "code",
   "execution_count": 17,
   "metadata": {},
   "outputs": [
    {
     "name": "stdout",
     "output_type": "stream",
     "text": [
      "[2 4 6]\n",
      "[False  True  True]\n",
      "[2 4 6]\n",
      "\n",
      "\n",
      "\n",
      "[2 4 6]\n",
      "[4 6]\n",
      "[2 4 6]\n"
     ]
    }
   ],
   "source": [
    "# return true/false matrix, or only elements that meet condition\n",
    "\n",
    "print(arr1)\n",
    "print(arr1 >= 3)\n",
    "print(arr1)\n",
    "\n",
    "print('\\n\\n')\n",
    "\n",
    "print(arr1)\n",
    "print(arr1[arr1 >= 3])    # acts like the filter method\n",
    "print(arr1)"
   ]
  },
  {
   "cell_type": "markdown",
   "metadata": {},
   "source": [
    "#### Multi-dimensional Arrays <br>\n",
    "<p>NumPy seamlessly supports multidimensional arrays and matrices of arbitrary dimension without nesting NDArrays. NDArrays themselves are flexible and extensible and may be defined with such dimensions, with a rich API of common functions to facilitate their use. Let's start by building a two dimensional 3x3 matrix by conversion from a nested group of core python lists $M = [l_0, l_1, l_2]$:</p>"
   ]
  },
  {
   "cell_type": "code",
   "execution_count": 20,
   "metadata": {},
   "outputs": [
    {
     "name": "stdout",
     "output_type": "stream",
     "text": [
      "Nested List Structure: \n",
      " [[0, 1, 2], [3, 4, 5], [6, 7, 8]]\n",
      "Type: <class 'list'>\n",
      "\n",
      "\n",
      "\n",
      "Nested Array Structure: \n",
      " [[0 1 2]\n",
      " [3 4 5]\n",
      " [6 7 8]]\n",
      "Type: <class 'numpy.ndarray'>\n"
     ]
    }
   ],
   "source": [
    "aList = [0, 1, 2]\n",
    "bList = [3, 4, 5]\n",
    "cList = [6, 7, 8]\n",
    "\n",
    "# first step: convert lists into Matrix to work with\n",
    "M = [aList, bList, cList]\n",
    "\n",
    "print(f'Nested List Structure: \\n {M}')\n",
    "print(f'Type: {type(M)}')\n",
    "\n",
    "print('\\n\\n')\n",
    "\n",
    "# second step: convert into Numpy array\n",
    "M = np.array(M)    # dimension inferred\n",
    "\n",
    "print(f'Nested Array Structure: \\n {M}')\n",
    "print(f'Type: {type(M)}')"
   ]
  },
  {
   "cell_type": "markdown",
   "metadata": {},
   "source": [
    "#### Indexing NDArrays <br>\n",
    "<p> Similar to lists within lists; however, the syntax looks more like C programming language.... It is [1, 2] to access the second row, third element.</p>"
   ]
  },
  {
   "cell_type": "code",
   "execution_count": 24,
   "metadata": {},
   "outputs": [
    {
     "name": "stdout",
     "output_type": "stream",
     "text": [
      "Middle element of Matrix is: 4 \n",
      " Type: <class 'numpy.ndarray'>\n"
     ]
    }
   ],
   "source": [
    "print(f'Middle element of Matrix is: %i \\n Type: %s' % (M[1, 1], type(M)))     # rows, column"
   ]
  },
  {
   "cell_type": "markdown",
   "metadata": {},
   "source": [
    "#### Assigning Values in NDArrays"
   ]
  },
  {
   "cell_type": "code",
   "execution_count": 28,
   "metadata": {},
   "outputs": [
    {
     "name": "stdout",
     "output_type": "stream",
     "text": [
      "[[ 0  1  2]\n",
      " [ 3 10  5]\n",
      " [ 6  7  8]]\n",
      "\n",
      "\n",
      "\n",
      "Nested Array Structure After 1.5 Assignment: \n",
      "[[0 1 2]\n",
      " [3 1 5]\n",
      " [6 7 8]]\n"
     ]
    }
   ],
   "source": [
    "M[1, 1] = 10\n",
    "\n",
    "print(M)\n",
    "\n",
    "print('\\n\\n')\n",
    "\n",
    "# change the value to 1.5\n",
    "M[1, 1] = 1.5\n",
    "\n",
    "print(f'Nested Array Structure After 1.5 Assignment: \\n{M}')\n",
    "\n",
    "# notice that the element that we changed did not change to 1.5, but rather 1.\n",
    "# This is because all NDArray's are assigned a single dType and must be consistent throughout the entire Array"
   ]
  },
  {
   "cell_type": "markdown",
   "metadata": {},
   "source": [
    "<p>Notice above how we ended up with a 1 in the target element's place. This is a data type issue. The .dtype() method is supported by all NDArrays, as well as the .astype() method for casting between data types:</p>"
   ]
  },
  {
   "cell_type": "markdown",
   "metadata": {},
   "source": [
    "#### Checking NDArray Type"
   ]
  },
  {
   "cell_type": "code",
   "execution_count": 29,
   "metadata": {},
   "outputs": [
    {
     "name": "stdout",
     "output_type": "stream",
     "text": [
      "Type of Matrix is: int32\n"
     ]
    }
   ],
   "source": [
    "# .dtype\n",
    "\n",
    "print(f'Type of Matrix is: {M.dtype}')"
   ]
  },
  {
   "cell_type": "markdown",
   "metadata": {},
   "source": [
    "#### Altering NDArray Type"
   ]
  },
  {
   "cell_type": "code",
   "execution_count": 31,
   "metadata": {},
   "outputs": [
    {
     "name": "stdout",
     "output_type": "stream",
     "text": [
      "Data type of Matrix is: float64\n",
      "Matrix: \n",
      "[[0. 1. 2.]\n",
      " [3. 1. 5.]\n",
      " [6. 7. 8.]]\n",
      "\n",
      "\n",
      "\n",
      "Matrix: \n",
      "[[0.  1.  2. ]\n",
      " [3.  1.5 5. ]\n",
      " [6.  7.  8. ]]\n"
     ]
    }
   ],
   "source": [
    "# .astype() \n",
    "\n",
    "M = M.astype(np.float64)\n",
    "\n",
    "t = M.dtype\n",
    "\n",
    "print(f'Data type of Matrix is: {t}')\n",
    "\n",
    "print(f'Matrix: \\n{M}')\n",
    "\n",
    "M[1, 1] = 1.5\n",
    "\n",
    "print('\\n\\n')\n",
    "\n",
    "print(f'Matrix: \\n{M}')"
   ]
  },
  {
   "cell_type": "markdown",
   "metadata": {},
   "source": [
    "#### Checking the Shape <br>\n",
    "<p>The behavior and properties of an NDArray are often sensitively dependent on the $\\textit{shape}$ of the NDArray itself. The shape of an array can be found by calling the .shape method, which will return a tuple containing the array's dimensions:</p>"
   ]
  },
  {
   "cell_type": "code",
   "execution_count": 32,
   "metadata": {},
   "outputs": [
    {
     "name": "stdout",
     "output_type": "stream",
     "text": [
      "The shape of our 2D Matrix is: (3, 3)\n",
      "The type of the shape returned is: <class 'tuple'>\n"
     ]
    }
   ],
   "source": [
    "# .shape\n",
    "\n",
    "print(f'The shape of our 2D Matrix is: {M.shape}')\n",
    "print(f'The type of the shape returned is: {type(M.shape)}')"
   ]
  },
  {
   "cell_type": "markdown",
   "metadata": {},
   "source": [
    "#### Altering the Shape <br>\n",
    "<p>As long as the number of elements remains fixed, we can reshape NDArrays at will:</p>"
   ]
  },
  {
   "cell_type": "code",
   "execution_count": 33,
   "metadata": {},
   "outputs": [
    {
     "name": "stdout",
     "output_type": "stream",
     "text": [
      "[[0. ]\n",
      " [1. ]\n",
      " [2. ]\n",
      " [3. ]\n",
      " [1.5]\n",
      " [5. ]\n",
      " [6. ]\n",
      " [7. ]\n",
      " [8. ]]\n"
     ]
    }
   ],
   "source": [
    "# .reshape()\n",
    "\n",
    "M = M.reshape(9, 1)\n",
    "\n",
    "print(M)"
   ]
  },
  {
   "cell_type": "code",
   "execution_count": 35,
   "metadata": {},
   "outputs": [
    {
     "name": "stdout",
     "output_type": "stream",
     "text": [
      "[[0.  1.  2.  3.  1.5 5.  6.  7.  8. ]]\n",
      "[[0.  1.  2. ]\n",
      " [3.  1.5 5. ]\n",
      " [6.  7.  8. ]]\n"
     ]
    }
   ],
   "source": [
    "# keep in mind that the shape numbers do matter, (9, 1) is different than (1, 9)\n",
    "\n",
    "M = M.reshape(1,9)\n",
    "\n",
    "print(M)\n",
    "\n",
    "M = M.reshape(3, 3)\n",
    "\n",
    "print(M)"
   ]
  },
  {
   "cell_type": "markdown",
   "metadata": {},
   "source": [
    "#### In-Class Exercise #2 - Create the following matrix<br>\n",
    "<p>[[&nbsp;&nbsp;&nbsp;0&nbsp;&nbsp;&nbsp;1&nbsp;&nbsp;&nbsp;2&nbsp;&nbsp;&nbsp;3]<br>\n",
    "&nbsp;[&nbsp;&nbsp;&nbsp;4&nbsp;&nbsp;&nbsp;5&nbsp;&nbsp;&nbsp;6&nbsp;&nbsp;&nbsp;7]<br>\n",
    "&nbsp;[&nbsp;&nbsp;&nbsp;8&nbsp;&nbsp;&nbsp;9&nbsp;10&nbsp;11]<br>\n",
    "&nbsp;[&nbsp;12&nbsp;13&nbsp;14&nbsp;15]]</p>"
   ]
  },
  {
   "cell_type": "code",
   "execution_count": 37,
   "metadata": {},
   "outputs": [
    {
     "name": "stdout",
     "output_type": "stream",
     "text": [
      "[[ 0  1  2  3]\n",
      " [ 4  5  6  7]\n",
      " [ 8  9 10 11]\n",
      " [12 13 14 15]]\n"
     ]
    }
   ],
   "source": [
    "arr1 = np.arange(16).reshape(4,4)\n",
    "\n",
    "print(arr1)"
   ]
  },
  {
   "cell_type": "markdown",
   "metadata": {},
   "source": [
    "#### Complex Indexing & Assinging"
   ]
  },
  {
   "cell_type": "code",
   "execution_count": 45,
   "metadata": {},
   "outputs": [
    {
     "name": "stdout",
     "output_type": "stream",
     "text": [
      "Instantiated Matrix: \n",
      "[[0. 0. 0. 0.]\n",
      " [0. 0. 0. 0.]\n",
      " [0. 0. 0. 0.]\n",
      " [0. 0. 0. 0.]]\n",
      "\n",
      "Matrix after assigning the value of 1 to first column: \n",
      "[[1. 0. 0. 0.]\n",
      " [1. 0. 0. 0.]\n",
      " [1. 0. 0. 0.]\n",
      " [1. 0. 0. 0.]]\n",
      "\n",
      "Matrix after assigning the value of 5 to third row: \n",
      "[[1. 0. 0. 0.]\n",
      " [1. 0. 0. 0.]\n",
      " [5. 5. 5. 5.]\n",
      " [1. 0. 0. 0.]]\n",
      "\n",
      "Matrix after setting back to 0: \n",
      "[[0. 0. 0. 0.]\n",
      " [0. 0. 0. 0.]\n",
      " [0. 0. 0. 0.]\n",
      " [0. 0. 0. 0.]]\n",
      "\n",
      "Matrix after assigning the value of 2 to second and third column: \n",
      "[[0. 2. 2. 0.]\n",
      " [0. 2. 2. 0.]\n",
      " [0. 2. 2. 0.]\n",
      " [0. 2. 2. 0.]]\n",
      "Vector: [0 1 2 3]\n",
      "\n",
      "Matrix after adding vector: \n",
      "[[0. 1. 2. 3.]\n",
      " [0. 1. 2. 3.]\n",
      " [0. 1. 2. 3.]\n",
      " [0. 1. 2. 3.]]\n"
     ]
    }
   ],
   "source": [
    "#####################\n",
    "# M[rows, columns]\n",
    "####################\n",
    "\n",
    "\n",
    "# create an array of 4, 4 zeros\n",
    "M = np.zeros((4, 4))\n",
    "print(f'Instantiated Matrix: \\n{M}')\n",
    "\n",
    "# Assign the number 1 to every row's first column\n",
    "M[:, 0] = 1\n",
    "print(f'\\nMatrix after assigning the value of 1 to first column: \\n{M}')\n",
    "\n",
    "# Assign the number 5 to every column in the third row\n",
    "M[2, :] = 5\n",
    "print(f'\\nMatrix after assigning the value of 5 to third row: \\n{M}')\n",
    "\n",
    "# Reset the Matrix back to 0\n",
    "M = M * 0\n",
    "print(f'\\nMatrix after setting back to 0: \\n{M}')\n",
    "\n",
    "# Set every row's second and third column to the number 2\n",
    "M[:, 1:3] = 2\n",
    "print(f'\\nMatrix after assigning the value of 2 to second and third column: \\n{M}')\n",
    "\n",
    "# Initialize a vector of range 4, reset the matrix to zero and run the vector on the matrix using addition\n",
    "v = np.arange(4)\n",
    "M = M * 0\n",
    "\n",
    "print(f'Vector: {v}')\n",
    "\n",
    "M = M + v\n",
    "\n",
    "print(f'\\nMatrix after adding vector: \\n{M}')"
   ]
  },
  {
   "cell_type": "markdown",
   "metadata": {},
   "source": [
    "#### Elementwise Multiplication"
   ]
  },
  {
   "cell_type": "markdown",
   "metadata": {},
   "source": [
    "<p>As long as the shapes of NDArrays are 'compatible', they can be multiplied elementwise, broadcasted, used in inner products, and much much more. 'Compatible' in this context can mean compatible in the linear algebraic sense, i.e. for inner products and other matrix multiplication, or simply sharing a dimension in such a manner that broadcasting 'makes sense'. Here are some examples of this:</p>"
   ]
  },
  {
   "cell_type": "code",
   "execution_count": 51,
   "metadata": {},
   "outputs": [
    {
     "name": "stdout",
     "output_type": "stream",
     "text": [
      "Matrix: \n",
      "[[1. 1. 1. 1.]\n",
      " [1. 1. 1. 1.]\n",
      " [1. 1. 1. 1.]\n",
      " [1. 1. 1. 1.]]\n",
      "\n",
      "Vector: \n",
      "[[0]\n",
      " [1]\n",
      " [2]\n",
      " [3]]\n",
      "\n",
      "\n",
      "\n",
      "Matrix after vector multiplicatoin: \n",
      "[[0. 0. 0. 0.]\n",
      " [1. 1. 1. 1.]\n",
      " [2. 2. 2. 2.]\n",
      " [3. 3. 3. 3.]]\n"
     ]
    }
   ],
   "source": [
    "M = np.ones((4, 4))\n",
    "\n",
    "v = np.arange(4).reshape(4, 1)\n",
    "\n",
    "print(f'Matrix: \\n{M}')\n",
    "print(f'\\nVector: \\n{v}')\n",
    "\n",
    "M = M * v\n",
    "\n",
    "print('\\n\\n')\n",
    "\n",
    "print(f'Matrix after vector multiplicatoin: \\n{M}')"
   ]
  },
  {
   "cell_type": "markdown",
   "metadata": {},
   "source": [
    "#### np.where() <br>\n",
    "<p>If statement within NDArrays that allows you to run conditionals on the entire array</p>"
   ]
  },
  {
   "cell_type": "code",
   "execution_count": 56,
   "metadata": {},
   "outputs": [
    {
     "name": "stdout",
     "output_type": "stream",
     "text": [
      "[[  0.   0.   0.   0.]\n",
      " [  1.   1.   1.   1.]\n",
      " [100. 100. 100. 100.]\n",
      " [  3.   3.   3.   3.]]\n",
      "\n",
      "\n",
      "(array([], dtype=int64), array([], dtype=int64))\n",
      "\n",
      " X Coordinates: [] \t Y Coordinates: []\n",
      "\n",
      "Matrix: \n",
      "[[  0.   0.   0.   0.]\n",
      " [  1.   1.   1.   1.]\n",
      " [100. 100. 100. 100.]\n",
      " [  3.   3.   3.   3.]]\n"
     ]
    }
   ],
   "source": [
    "print(M)\n",
    "\n",
    "print('\\n')\n",
    "\n",
    "# the proper values where the condition is met\n",
    "print(np.where(M == 2))\n",
    "\n",
    "# store the coordinates into variables\n",
    "y, x = np.where(M == 2)\n",
    "\n",
    "print(f'\\n X Coordinates: {x} \\t Y Coordinates: {y}')\n",
    "\n",
    "\n",
    "# use the where method to assign values at the proper location where the condition is met\n",
    "M[np.where(M == 2)] = 100\n",
    "\n",
    "print(f'\\nMatrix: \\n{M}')"
   ]
  },
  {
   "cell_type": "markdown",
   "metadata": {},
   "source": [
    "#### Random Sampling <br>\n",
    "<p>NumPy provides machinery to work with random numbers - something often needed in a broad spectrum of data science applications.</p>"
   ]
  },
  {
   "cell_type": "code",
   "execution_count": 70,
   "metadata": {},
   "outputs": [
    {
     "name": "stdout",
     "output_type": "stream",
     "text": [
      "Here is a random number between 0 and 1: 0.8859479412560747\n",
      "Here is a random number between 0 and 1 million: 77912.35871612435\n",
      "Here are 3 random numbers between 0 and 10: [9.79646157 2.47671458 7.52884718]\n",
      "3x3 Random Matrix: \n",
      "[[5.26675636 9.07553753 8.84070297]\n",
      " [0.8926896  5.17344596 3.43621292]\n",
      " [2.12293694 3.60673442 2.70775173]]\n"
     ]
    }
   ],
   "source": [
    "# np.random.uniform()\n",
    "# np.random.seed()\n",
    "\n",
    "np.random.seed(321)      # sets all of us to the same random calculation\n",
    "\n",
    "# a single call generates a single random number between 0 and 1\n",
    "num = np.random.uniform()\n",
    "print('Here is a random number between 0 and 1: %s' % num)\n",
    "\n",
    "# generating a number between 0 and 1 million\n",
    "num = np.random.uniform(0, 1e6)\n",
    "print('Here is a random number between 0 and 1 million: %s' % num)\n",
    "\n",
    "# generating a bunch of numbers at once\n",
    "nums = np.random.uniform(0, 10, 3)\n",
    "print('Here are 3 random numbers between 0 and 10: %s' % nums)\n",
    "\n",
    "# generating a random matrix\n",
    "M = np.random.uniform(0, 10, (3, 3))\n",
    "print('3x3 Random Matrix: \\n%s' % M)"
   ]
  },
  {
   "cell_type": "markdown",
   "metadata": {},
   "source": [
    "## Working With CSV's"
   ]
  },
  {
   "cell_type": "markdown",
   "metadata": {},
   "source": [
    "#### Imports"
   ]
  },
  {
   "cell_type": "code",
   "execution_count": 145,
   "metadata": {},
   "outputs": [],
   "source": [
    "import csv\n",
    "import numpy as np\n",
    "from datetime import datetime"
   ]
  },
  {
   "cell_type": "markdown",
   "metadata": {},
   "source": [
    "#### Reading a CSV"
   ]
  },
  {
   "cell_type": "code",
   "execution_count": 147,
   "metadata": {},
   "outputs": [
    {
     "name": "stdout",
     "output_type": "stream",
     "text": [
      "['Rk', 'Pos', 'Name', 'Age', 'G', 'PA', 'AB', 'R', 'H', '2B', '3B', 'HR', 'RBI', 'SB', 'CS', 'BB', 'SO', 'BA', 'OBP', 'SLG', 'OPS', 'OPS+', 'TB', 'GDP', 'HBP', 'SH', 'SF', 'IBB']\n"
     ]
    }
   ],
   "source": [
    "def open_csv(f, d=','):\n",
    "    # define an empty list to store the data\n",
    "    data = []\n",
    "    \n",
    "    # use the 'with' keyword to open and read the information\n",
    "    with open(f, encoding='utf-8') as mData:\n",
    "        info = csv.reader(mData, delimiter=d)\n",
    "        \n",
    "        # loop over info and append to data, necessary because info is a reader object\n",
    "        for row in info:\n",
    "            data.append(row)\n",
    "            \n",
    "    return data\n",
    "\n",
    "csv_data = open_csv('files/redsox_2017_hitting.txt')\n",
    "\n",
    "print(csv_data[0])"
   ]
  },
  {
   "cell_type": "markdown",
   "metadata": {},
   "source": [
    "#### Loading a CSV's Data "
   ]
  },
  {
   "cell_type": "code",
   "execution_count": 151,
   "metadata": {},
   "outputs": [
    {
     "name": "stdout",
     "output_type": "stream",
     "text": [
      "23\n",
      "[ 5 22  7 10 10 20 17 24 23  7  7  4  8  0  0  4  0  0  0  0  0  0  0]\n"
     ]
    }
   ],
   "source": [
    "FIELDS = ['Rk', 'Pos', 'Name', 'Age', 'G', 'PA', 'AB', 'R', 'H', '2B', '3B', 'HR', 'RBI', 'SB', 'CS', 'BB', 'SO', 'BA', \n",
    "          'OBP', 'SLG', 'OPS', 'OPS+', 'TB', 'GDP', 'HBP', 'SH', 'SF', 'IBB']\n",
    "\n",
    "DATATYPES = [('rk', 'i'), ('pos', '|S25'), ('name', '|S25'), ('age', 'i'), ('g', 'i'), ('pa', 'i'), ('ab', 'i'), ('r', 'i'),\n",
    "                ('h', 'i'), ('2b', 'i'), ('3b', 'i'), ('hr', 'i'), ('rbi', 'i'), ('sb', 'i'), ('cs', 'i'), ('bb', 'i'),\n",
    "                 ('so', 'i'), ('ba', 'f'), ('obp', 'f'), ('slg', 'f'), ('ops', 'f'), ('ops+', 'f'), ('tb', 'i'), ('gdp', 'i'),\n",
    "                 ('hbp', 'i'), ('sh', 'i'), ('sf', 'i'), ('ibb', 'i')\n",
    "            ]\n",
    "\n",
    "def load_data(f, d=','):\n",
    "    # instead of laoding csv normally, we'll load it into a numpy array to calculate result on the data\n",
    "    data = np.genfromtxt(f,delimiter=d,skip_header=1, usecols=np.arange(0,28), invalid_raise=False, \n",
    "                         names=FIELDS, dtype=DATATYPES)\n",
    "    \n",
    "    return data\n",
    "\n",
    "bos_17 = load_data('files/redsox_2017_hitting.txt')\n",
    "\n",
    "print(len(bos_17))\n",
    "print(bos_17['HR'])"
   ]
  },
  {
   "cell_type": "markdown",
   "metadata": {},
   "source": [
    "#### Summing the top 5 hitters for HR's"
   ]
  },
  {
   "cell_type": "code",
   "execution_count": 160,
   "metadata": {},
   "outputs": [
    {
     "name": "stdout",
     "output_type": "stream",
     "text": [
      "[ 5 22  7 10 10 20 17 24 23  7  7  4  8  0  0  4  0  0  0  0  0  0  0]\n",
      "[b'Mitch Moreland' b'Andrew Benintendi' b'Jackie Bradley Jr.'\n",
      " b'Mookie Betts' b'Hanley Ramirez']\n"
     ]
    }
   ],
   "source": [
    "# small in-class exercise\n",
    "\n",
    "hrs = bos_17['HR']\n",
    "\n",
    "print(hrs)\n",
    "\n",
    "sorted_hrs = sorted(hrs)\n",
    "\n",
    "fifth = sorted_hrs[-5]\n",
    "\n",
    "top_hitters = bos_17[np.where(bos_17['HR'] >=fifth)]\n",
    "\n",
    "print(top_hitters['Name'])\n",
    "# print(sum(top_hitters))"
   ]
  },
  {
   "cell_type": "markdown",
   "metadata": {
    "collapsed": true
   },
   "source": [
    "# Exercises To Complete.... <br>\n",
    "<p>Given in separate file after completion of this file</p>"
   ]
  }
 ],
 "metadata": {
  "kernelspec": {
   "display_name": "Python 3",
   "language": "python",
   "name": "python3"
  },
  "language_info": {
   "codemirror_mode": {
    "name": "ipython",
    "version": 3
   },
   "file_extension": ".py",
   "mimetype": "text/x-python",
   "name": "python",
   "nbconvert_exporter": "python",
   "pygments_lexer": "ipython3",
   "version": "3.7.3"
  }
 },
 "nbformat": 4,
 "nbformat_minor": 2
}
